{
  "nbformat": 4,
  "nbformat_minor": 0,
  "metadata": {
    "colab": {
      "name": "Fashion Mnist VGG13.ipynb",
      "provenance": [],
      "include_colab_link": true
    },
    "kernelspec": {
      "name": "python3",
      "display_name": "Python 3"
    },
    "accelerator": "GPU",
    "widgets": {
      "application/vnd.jupyter.widget-state+json": {
        "68fdf3194078495aa14d1d56192a96f3": {
          "model_module": "@jupyter-widgets/controls",
          "model_name": "HBoxModel",
          "state": {
            "_view_name": "HBoxView",
            "_dom_classes": [],
            "_model_name": "HBoxModel",
            "_view_module": "@jupyter-widgets/controls",
            "_model_module_version": "1.5.0",
            "_view_count": null,
            "_view_module_version": "1.5.0",
            "box_style": "",
            "layout": "IPY_MODEL_7a8a1263ff7f4f92b945e3aadb51382f",
            "_model_module": "@jupyter-widgets/controls",
            "children": [
              "IPY_MODEL_3c570e567cdf4d2983dfba7074a6ee84",
              "IPY_MODEL_2efda85141bb4005b8ccc6c45708a7f0"
            ]
          }
        },
        "7a8a1263ff7f4f92b945e3aadb51382f": {
          "model_module": "@jupyter-widgets/base",
          "model_name": "LayoutModel",
          "state": {
            "_view_name": "LayoutView",
            "grid_template_rows": null,
            "right": null,
            "justify_content": null,
            "_view_module": "@jupyter-widgets/base",
            "overflow": null,
            "_model_module_version": "1.2.0",
            "_view_count": null,
            "flex_flow": null,
            "width": null,
            "min_width": null,
            "border": null,
            "align_items": null,
            "bottom": null,
            "_model_module": "@jupyter-widgets/base",
            "top": null,
            "grid_column": null,
            "overflow_y": null,
            "overflow_x": null,
            "grid_auto_flow": null,
            "grid_area": null,
            "grid_template_columns": null,
            "flex": null,
            "_model_name": "LayoutModel",
            "justify_items": null,
            "grid_row": null,
            "max_height": null,
            "align_content": null,
            "visibility": null,
            "align_self": null,
            "height": null,
            "min_height": null,
            "padding": null,
            "grid_auto_rows": null,
            "grid_gap": null,
            "max_width": null,
            "order": null,
            "_view_module_version": "1.2.0",
            "grid_template_areas": null,
            "object_position": null,
            "object_fit": null,
            "grid_auto_columns": null,
            "margin": null,
            "display": null,
            "left": null
          }
        },
        "3c570e567cdf4d2983dfba7074a6ee84": {
          "model_module": "@jupyter-widgets/controls",
          "model_name": "FloatProgressModel",
          "state": {
            "_view_name": "ProgressView",
            "style": "IPY_MODEL_46c98437a1ad4dd98610fb73e9dea4a4",
            "_dom_classes": [],
            "description": "",
            "_model_name": "FloatProgressModel",
            "bar_style": "info",
            "max": 1,
            "_view_module": "@jupyter-widgets/controls",
            "_model_module_version": "1.5.0",
            "value": 1,
            "_view_count": null,
            "_view_module_version": "1.5.0",
            "orientation": "horizontal",
            "min": 0,
            "description_tooltip": null,
            "_model_module": "@jupyter-widgets/controls",
            "layout": "IPY_MODEL_bf1847da89ed48acaaa86a7742659ec0"
          }
        },
        "2efda85141bb4005b8ccc6c45708a7f0": {
          "model_module": "@jupyter-widgets/controls",
          "model_name": "HTMLModel",
          "state": {
            "_view_name": "HTMLView",
            "style": "IPY_MODEL_1e300973b4f046c2af8694cacad62c16",
            "_dom_classes": [],
            "description": "",
            "_model_name": "HTMLModel",
            "placeholder": "​",
            "_view_module": "@jupyter-widgets/controls",
            "_model_module_version": "1.5.0",
            "value": " 26427392/? [00:20&lt;00:00, 10733796.21it/s]",
            "_view_count": null,
            "_view_module_version": "1.5.0",
            "description_tooltip": null,
            "_model_module": "@jupyter-widgets/controls",
            "layout": "IPY_MODEL_d6989815be3f4f708d4669ca433bcffe"
          }
        },
        "46c98437a1ad4dd98610fb73e9dea4a4": {
          "model_module": "@jupyter-widgets/controls",
          "model_name": "ProgressStyleModel",
          "state": {
            "_view_name": "StyleView",
            "_model_name": "ProgressStyleModel",
            "description_width": "initial",
            "_view_module": "@jupyter-widgets/base",
            "_model_module_version": "1.5.0",
            "_view_count": null,
            "_view_module_version": "1.2.0",
            "bar_color": null,
            "_model_module": "@jupyter-widgets/controls"
          }
        },
        "bf1847da89ed48acaaa86a7742659ec0": {
          "model_module": "@jupyter-widgets/base",
          "model_name": "LayoutModel",
          "state": {
            "_view_name": "LayoutView",
            "grid_template_rows": null,
            "right": null,
            "justify_content": null,
            "_view_module": "@jupyter-widgets/base",
            "overflow": null,
            "_model_module_version": "1.2.0",
            "_view_count": null,
            "flex_flow": null,
            "width": null,
            "min_width": null,
            "border": null,
            "align_items": null,
            "bottom": null,
            "_model_module": "@jupyter-widgets/base",
            "top": null,
            "grid_column": null,
            "overflow_y": null,
            "overflow_x": null,
            "grid_auto_flow": null,
            "grid_area": null,
            "grid_template_columns": null,
            "flex": null,
            "_model_name": "LayoutModel",
            "justify_items": null,
            "grid_row": null,
            "max_height": null,
            "align_content": null,
            "visibility": null,
            "align_self": null,
            "height": null,
            "min_height": null,
            "padding": null,
            "grid_auto_rows": null,
            "grid_gap": null,
            "max_width": null,
            "order": null,
            "_view_module_version": "1.2.0",
            "grid_template_areas": null,
            "object_position": null,
            "object_fit": null,
            "grid_auto_columns": null,
            "margin": null,
            "display": null,
            "left": null
          }
        },
        "1e300973b4f046c2af8694cacad62c16": {
          "model_module": "@jupyter-widgets/controls",
          "model_name": "DescriptionStyleModel",
          "state": {
            "_view_name": "StyleView",
            "_model_name": "DescriptionStyleModel",
            "description_width": "",
            "_view_module": "@jupyter-widgets/base",
            "_model_module_version": "1.5.0",
            "_view_count": null,
            "_view_module_version": "1.2.0",
            "_model_module": "@jupyter-widgets/controls"
          }
        },
        "d6989815be3f4f708d4669ca433bcffe": {
          "model_module": "@jupyter-widgets/base",
          "model_name": "LayoutModel",
          "state": {
            "_view_name": "LayoutView",
            "grid_template_rows": null,
            "right": null,
            "justify_content": null,
            "_view_module": "@jupyter-widgets/base",
            "overflow": null,
            "_model_module_version": "1.2.0",
            "_view_count": null,
            "flex_flow": null,
            "width": null,
            "min_width": null,
            "border": null,
            "align_items": null,
            "bottom": null,
            "_model_module": "@jupyter-widgets/base",
            "top": null,
            "grid_column": null,
            "overflow_y": null,
            "overflow_x": null,
            "grid_auto_flow": null,
            "grid_area": null,
            "grid_template_columns": null,
            "flex": null,
            "_model_name": "LayoutModel",
            "justify_items": null,
            "grid_row": null,
            "max_height": null,
            "align_content": null,
            "visibility": null,
            "align_self": null,
            "height": null,
            "min_height": null,
            "padding": null,
            "grid_auto_rows": null,
            "grid_gap": null,
            "max_width": null,
            "order": null,
            "_view_module_version": "1.2.0",
            "grid_template_areas": null,
            "object_position": null,
            "object_fit": null,
            "grid_auto_columns": null,
            "margin": null,
            "display": null,
            "left": null
          }
        },
        "e88b3d25578642138a20377819f0f79b": {
          "model_module": "@jupyter-widgets/controls",
          "model_name": "HBoxModel",
          "state": {
            "_view_name": "HBoxView",
            "_dom_classes": [],
            "_model_name": "HBoxModel",
            "_view_module": "@jupyter-widgets/controls",
            "_model_module_version": "1.5.0",
            "_view_count": null,
            "_view_module_version": "1.5.0",
            "box_style": "",
            "layout": "IPY_MODEL_aa745e4d8b724f2a83f83f10fbce8f95",
            "_model_module": "@jupyter-widgets/controls",
            "children": [
              "IPY_MODEL_a5ec33d0dbf6442f8bd3a759ffe1b2ed",
              "IPY_MODEL_41b2b04b09b84497abb9eb3916f7387e"
            ]
          }
        },
        "aa745e4d8b724f2a83f83f10fbce8f95": {
          "model_module": "@jupyter-widgets/base",
          "model_name": "LayoutModel",
          "state": {
            "_view_name": "LayoutView",
            "grid_template_rows": null,
            "right": null,
            "justify_content": null,
            "_view_module": "@jupyter-widgets/base",
            "overflow": null,
            "_model_module_version": "1.2.0",
            "_view_count": null,
            "flex_flow": null,
            "width": null,
            "min_width": null,
            "border": null,
            "align_items": null,
            "bottom": null,
            "_model_module": "@jupyter-widgets/base",
            "top": null,
            "grid_column": null,
            "overflow_y": null,
            "overflow_x": null,
            "grid_auto_flow": null,
            "grid_area": null,
            "grid_template_columns": null,
            "flex": null,
            "_model_name": "LayoutModel",
            "justify_items": null,
            "grid_row": null,
            "max_height": null,
            "align_content": null,
            "visibility": null,
            "align_self": null,
            "height": null,
            "min_height": null,
            "padding": null,
            "grid_auto_rows": null,
            "grid_gap": null,
            "max_width": null,
            "order": null,
            "_view_module_version": "1.2.0",
            "grid_template_areas": null,
            "object_position": null,
            "object_fit": null,
            "grid_auto_columns": null,
            "margin": null,
            "display": null,
            "left": null
          }
        },
        "a5ec33d0dbf6442f8bd3a759ffe1b2ed": {
          "model_module": "@jupyter-widgets/controls",
          "model_name": "FloatProgressModel",
          "state": {
            "_view_name": "ProgressView",
            "style": "IPY_MODEL_738c20ff9b3a409b81ddeb017cbb0059",
            "_dom_classes": [],
            "description": "",
            "_model_name": "FloatProgressModel",
            "bar_style": "success",
            "max": 1,
            "_view_module": "@jupyter-widgets/controls",
            "_model_module_version": "1.5.0",
            "value": 1,
            "_view_count": null,
            "_view_module_version": "1.5.0",
            "orientation": "horizontal",
            "min": 0,
            "description_tooltip": null,
            "_model_module": "@jupyter-widgets/controls",
            "layout": "IPY_MODEL_a256150866bf4a4e9d44b5607ab570da"
          }
        },
        "41b2b04b09b84497abb9eb3916f7387e": {
          "model_module": "@jupyter-widgets/controls",
          "model_name": "HTMLModel",
          "state": {
            "_view_name": "HTMLView",
            "style": "IPY_MODEL_bd1cc016e6034cf99f57c49f11d0fbc8",
            "_dom_classes": [],
            "description": "",
            "_model_name": "HTMLModel",
            "placeholder": "​",
            "_view_module": "@jupyter-widgets/controls",
            "_model_module_version": "1.5.0",
            "value": " 32768/? [00:01&lt;00:00, 17582.96it/s]",
            "_view_count": null,
            "_view_module_version": "1.5.0",
            "description_tooltip": null,
            "_model_module": "@jupyter-widgets/controls",
            "layout": "IPY_MODEL_e1474f46809d47a89bf77cfe20202603"
          }
        },
        "738c20ff9b3a409b81ddeb017cbb0059": {
          "model_module": "@jupyter-widgets/controls",
          "model_name": "ProgressStyleModel",
          "state": {
            "_view_name": "StyleView",
            "_model_name": "ProgressStyleModel",
            "description_width": "initial",
            "_view_module": "@jupyter-widgets/base",
            "_model_module_version": "1.5.0",
            "_view_count": null,
            "_view_module_version": "1.2.0",
            "bar_color": null,
            "_model_module": "@jupyter-widgets/controls"
          }
        },
        "a256150866bf4a4e9d44b5607ab570da": {
          "model_module": "@jupyter-widgets/base",
          "model_name": "LayoutModel",
          "state": {
            "_view_name": "LayoutView",
            "grid_template_rows": null,
            "right": null,
            "justify_content": null,
            "_view_module": "@jupyter-widgets/base",
            "overflow": null,
            "_model_module_version": "1.2.0",
            "_view_count": null,
            "flex_flow": null,
            "width": null,
            "min_width": null,
            "border": null,
            "align_items": null,
            "bottom": null,
            "_model_module": "@jupyter-widgets/base",
            "top": null,
            "grid_column": null,
            "overflow_y": null,
            "overflow_x": null,
            "grid_auto_flow": null,
            "grid_area": null,
            "grid_template_columns": null,
            "flex": null,
            "_model_name": "LayoutModel",
            "justify_items": null,
            "grid_row": null,
            "max_height": null,
            "align_content": null,
            "visibility": null,
            "align_self": null,
            "height": null,
            "min_height": null,
            "padding": null,
            "grid_auto_rows": null,
            "grid_gap": null,
            "max_width": null,
            "order": null,
            "_view_module_version": "1.2.0",
            "grid_template_areas": null,
            "object_position": null,
            "object_fit": null,
            "grid_auto_columns": null,
            "margin": null,
            "display": null,
            "left": null
          }
        },
        "bd1cc016e6034cf99f57c49f11d0fbc8": {
          "model_module": "@jupyter-widgets/controls",
          "model_name": "DescriptionStyleModel",
          "state": {
            "_view_name": "StyleView",
            "_model_name": "DescriptionStyleModel",
            "description_width": "",
            "_view_module": "@jupyter-widgets/base",
            "_model_module_version": "1.5.0",
            "_view_count": null,
            "_view_module_version": "1.2.0",
            "_model_module": "@jupyter-widgets/controls"
          }
        },
        "e1474f46809d47a89bf77cfe20202603": {
          "model_module": "@jupyter-widgets/base",
          "model_name": "LayoutModel",
          "state": {
            "_view_name": "LayoutView",
            "grid_template_rows": null,
            "right": null,
            "justify_content": null,
            "_view_module": "@jupyter-widgets/base",
            "overflow": null,
            "_model_module_version": "1.2.0",
            "_view_count": null,
            "flex_flow": null,
            "width": null,
            "min_width": null,
            "border": null,
            "align_items": null,
            "bottom": null,
            "_model_module": "@jupyter-widgets/base",
            "top": null,
            "grid_column": null,
            "overflow_y": null,
            "overflow_x": null,
            "grid_auto_flow": null,
            "grid_area": null,
            "grid_template_columns": null,
            "flex": null,
            "_model_name": "LayoutModel",
            "justify_items": null,
            "grid_row": null,
            "max_height": null,
            "align_content": null,
            "visibility": null,
            "align_self": null,
            "height": null,
            "min_height": null,
            "padding": null,
            "grid_auto_rows": null,
            "grid_gap": null,
            "max_width": null,
            "order": null,
            "_view_module_version": "1.2.0",
            "grid_template_areas": null,
            "object_position": null,
            "object_fit": null,
            "grid_auto_columns": null,
            "margin": null,
            "display": null,
            "left": null
          }
        },
        "d0e1438cdbe34ab0b69667c3721711b4": {
          "model_module": "@jupyter-widgets/controls",
          "model_name": "HBoxModel",
          "state": {
            "_view_name": "HBoxView",
            "_dom_classes": [],
            "_model_name": "HBoxModel",
            "_view_module": "@jupyter-widgets/controls",
            "_model_module_version": "1.5.0",
            "_view_count": null,
            "_view_module_version": "1.5.0",
            "box_style": "",
            "layout": "IPY_MODEL_61528c1a91db46d3a17ccebea63d2798",
            "_model_module": "@jupyter-widgets/controls",
            "children": [
              "IPY_MODEL_141d7db86f414a849d69f8d6c8a5c948",
              "IPY_MODEL_15f32a0fe83848f1bb7c4dadc2d31b74"
            ]
          }
        },
        "61528c1a91db46d3a17ccebea63d2798": {
          "model_module": "@jupyter-widgets/base",
          "model_name": "LayoutModel",
          "state": {
            "_view_name": "LayoutView",
            "grid_template_rows": null,
            "right": null,
            "justify_content": null,
            "_view_module": "@jupyter-widgets/base",
            "overflow": null,
            "_model_module_version": "1.2.0",
            "_view_count": null,
            "flex_flow": null,
            "width": null,
            "min_width": null,
            "border": null,
            "align_items": null,
            "bottom": null,
            "_model_module": "@jupyter-widgets/base",
            "top": null,
            "grid_column": null,
            "overflow_y": null,
            "overflow_x": null,
            "grid_auto_flow": null,
            "grid_area": null,
            "grid_template_columns": null,
            "flex": null,
            "_model_name": "LayoutModel",
            "justify_items": null,
            "grid_row": null,
            "max_height": null,
            "align_content": null,
            "visibility": null,
            "align_self": null,
            "height": null,
            "min_height": null,
            "padding": null,
            "grid_auto_rows": null,
            "grid_gap": null,
            "max_width": null,
            "order": null,
            "_view_module_version": "1.2.0",
            "grid_template_areas": null,
            "object_position": null,
            "object_fit": null,
            "grid_auto_columns": null,
            "margin": null,
            "display": null,
            "left": null
          }
        },
        "141d7db86f414a849d69f8d6c8a5c948": {
          "model_module": "@jupyter-widgets/controls",
          "model_name": "FloatProgressModel",
          "state": {
            "_view_name": "ProgressView",
            "style": "IPY_MODEL_974d667a61fa444d9a9038b837042552",
            "_dom_classes": [],
            "description": "",
            "_model_name": "FloatProgressModel",
            "bar_style": "success",
            "max": 1,
            "_view_module": "@jupyter-widgets/controls",
            "_model_module_version": "1.5.0",
            "value": 1,
            "_view_count": null,
            "_view_module_version": "1.5.0",
            "orientation": "horizontal",
            "min": 0,
            "description_tooltip": null,
            "_model_module": "@jupyter-widgets/controls",
            "layout": "IPY_MODEL_f7158e5f1c41494ba24fffd0ddb63bf9"
          }
        },
        "15f32a0fe83848f1bb7c4dadc2d31b74": {
          "model_module": "@jupyter-widgets/controls",
          "model_name": "HTMLModel",
          "state": {
            "_view_name": "HTMLView",
            "style": "IPY_MODEL_8a3b2a104d6144429003e067747c343b",
            "_dom_classes": [],
            "description": "",
            "_model_name": "HTMLModel",
            "placeholder": "​",
            "_view_module": "@jupyter-widgets/controls",
            "_model_module_version": "1.5.0",
            "value": " 4423680/? [00:01&lt;00:00, 3262898.23it/s]",
            "_view_count": null,
            "_view_module_version": "1.5.0",
            "description_tooltip": null,
            "_model_module": "@jupyter-widgets/controls",
            "layout": "IPY_MODEL_eb7827cd60a345a399585e3f92c01db4"
          }
        },
        "974d667a61fa444d9a9038b837042552": {
          "model_module": "@jupyter-widgets/controls",
          "model_name": "ProgressStyleModel",
          "state": {
            "_view_name": "StyleView",
            "_model_name": "ProgressStyleModel",
            "description_width": "initial",
            "_view_module": "@jupyter-widgets/base",
            "_model_module_version": "1.5.0",
            "_view_count": null,
            "_view_module_version": "1.2.0",
            "bar_color": null,
            "_model_module": "@jupyter-widgets/controls"
          }
        },
        "f7158e5f1c41494ba24fffd0ddb63bf9": {
          "model_module": "@jupyter-widgets/base",
          "model_name": "LayoutModel",
          "state": {
            "_view_name": "LayoutView",
            "grid_template_rows": null,
            "right": null,
            "justify_content": null,
            "_view_module": "@jupyter-widgets/base",
            "overflow": null,
            "_model_module_version": "1.2.0",
            "_view_count": null,
            "flex_flow": null,
            "width": null,
            "min_width": null,
            "border": null,
            "align_items": null,
            "bottom": null,
            "_model_module": "@jupyter-widgets/base",
            "top": null,
            "grid_column": null,
            "overflow_y": null,
            "overflow_x": null,
            "grid_auto_flow": null,
            "grid_area": null,
            "grid_template_columns": null,
            "flex": null,
            "_model_name": "LayoutModel",
            "justify_items": null,
            "grid_row": null,
            "max_height": null,
            "align_content": null,
            "visibility": null,
            "align_self": null,
            "height": null,
            "min_height": null,
            "padding": null,
            "grid_auto_rows": null,
            "grid_gap": null,
            "max_width": null,
            "order": null,
            "_view_module_version": "1.2.0",
            "grid_template_areas": null,
            "object_position": null,
            "object_fit": null,
            "grid_auto_columns": null,
            "margin": null,
            "display": null,
            "left": null
          }
        },
        "8a3b2a104d6144429003e067747c343b": {
          "model_module": "@jupyter-widgets/controls",
          "model_name": "DescriptionStyleModel",
          "state": {
            "_view_name": "StyleView",
            "_model_name": "DescriptionStyleModel",
            "description_width": "",
            "_view_module": "@jupyter-widgets/base",
            "_model_module_version": "1.5.0",
            "_view_count": null,
            "_view_module_version": "1.2.0",
            "_model_module": "@jupyter-widgets/controls"
          }
        },
        "eb7827cd60a345a399585e3f92c01db4": {
          "model_module": "@jupyter-widgets/base",
          "model_name": "LayoutModel",
          "state": {
            "_view_name": "LayoutView",
            "grid_template_rows": null,
            "right": null,
            "justify_content": null,
            "_view_module": "@jupyter-widgets/base",
            "overflow": null,
            "_model_module_version": "1.2.0",
            "_view_count": null,
            "flex_flow": null,
            "width": null,
            "min_width": null,
            "border": null,
            "align_items": null,
            "bottom": null,
            "_model_module": "@jupyter-widgets/base",
            "top": null,
            "grid_column": null,
            "overflow_y": null,
            "overflow_x": null,
            "grid_auto_flow": null,
            "grid_area": null,
            "grid_template_columns": null,
            "flex": null,
            "_model_name": "LayoutModel",
            "justify_items": null,
            "grid_row": null,
            "max_height": null,
            "align_content": null,
            "visibility": null,
            "align_self": null,
            "height": null,
            "min_height": null,
            "padding": null,
            "grid_auto_rows": null,
            "grid_gap": null,
            "max_width": null,
            "order": null,
            "_view_module_version": "1.2.0",
            "grid_template_areas": null,
            "object_position": null,
            "object_fit": null,
            "grid_auto_columns": null,
            "margin": null,
            "display": null,
            "left": null
          }
        },
        "39aa08893daa4482b3afc7169eecbc81": {
          "model_module": "@jupyter-widgets/controls",
          "model_name": "HBoxModel",
          "state": {
            "_view_name": "HBoxView",
            "_dom_classes": [],
            "_model_name": "HBoxModel",
            "_view_module": "@jupyter-widgets/controls",
            "_model_module_version": "1.5.0",
            "_view_count": null,
            "_view_module_version": "1.5.0",
            "box_style": "",
            "layout": "IPY_MODEL_adbebdf19e6740cdb65ce6084f67d6d6",
            "_model_module": "@jupyter-widgets/controls",
            "children": [
              "IPY_MODEL_1ed8a23468ca44c994e6e2cb85b6d1ae",
              "IPY_MODEL_a7771bd6c642499b93c30fa679640616"
            ]
          }
        },
        "adbebdf19e6740cdb65ce6084f67d6d6": {
          "model_module": "@jupyter-widgets/base",
          "model_name": "LayoutModel",
          "state": {
            "_view_name": "LayoutView",
            "grid_template_rows": null,
            "right": null,
            "justify_content": null,
            "_view_module": "@jupyter-widgets/base",
            "overflow": null,
            "_model_module_version": "1.2.0",
            "_view_count": null,
            "flex_flow": null,
            "width": null,
            "min_width": null,
            "border": null,
            "align_items": null,
            "bottom": null,
            "_model_module": "@jupyter-widgets/base",
            "top": null,
            "grid_column": null,
            "overflow_y": null,
            "overflow_x": null,
            "grid_auto_flow": null,
            "grid_area": null,
            "grid_template_columns": null,
            "flex": null,
            "_model_name": "LayoutModel",
            "justify_items": null,
            "grid_row": null,
            "max_height": null,
            "align_content": null,
            "visibility": null,
            "align_self": null,
            "height": null,
            "min_height": null,
            "padding": null,
            "grid_auto_rows": null,
            "grid_gap": null,
            "max_width": null,
            "order": null,
            "_view_module_version": "1.2.0",
            "grid_template_areas": null,
            "object_position": null,
            "object_fit": null,
            "grid_auto_columns": null,
            "margin": null,
            "display": null,
            "left": null
          }
        },
        "1ed8a23468ca44c994e6e2cb85b6d1ae": {
          "model_module": "@jupyter-widgets/controls",
          "model_name": "FloatProgressModel",
          "state": {
            "_view_name": "ProgressView",
            "style": "IPY_MODEL_52e5dee5ae66488cb2ddfa5396fac27f",
            "_dom_classes": [],
            "description": "  0%",
            "_model_name": "FloatProgressModel",
            "bar_style": "info",
            "max": 1,
            "_view_module": "@jupyter-widgets/controls",
            "_model_module_version": "1.5.0",
            "value": 0,
            "_view_count": null,
            "_view_module_version": "1.5.0",
            "orientation": "horizontal",
            "min": 0,
            "description_tooltip": null,
            "_model_module": "@jupyter-widgets/controls",
            "layout": "IPY_MODEL_e1dce0cb49a74724ad98275747b2509d"
          }
        },
        "a7771bd6c642499b93c30fa679640616": {
          "model_module": "@jupyter-widgets/controls",
          "model_name": "HTMLModel",
          "state": {
            "_view_name": "HTMLView",
            "style": "IPY_MODEL_4521cfe058a8405fb82b7199095700bf",
            "_dom_classes": [],
            "description": "",
            "_model_name": "HTMLModel",
            "placeholder": "​",
            "_view_module": "@jupyter-widgets/controls",
            "_model_module_version": "1.5.0",
            "value": " 0/5148 [00:00&lt;?, ?it/s]",
            "_view_count": null,
            "_view_module_version": "1.5.0",
            "description_tooltip": null,
            "_model_module": "@jupyter-widgets/controls",
            "layout": "IPY_MODEL_c692e9e6d0ff460fbef8e93060d4e837"
          }
        },
        "52e5dee5ae66488cb2ddfa5396fac27f": {
          "model_module": "@jupyter-widgets/controls",
          "model_name": "ProgressStyleModel",
          "state": {
            "_view_name": "StyleView",
            "_model_name": "ProgressStyleModel",
            "description_width": "initial",
            "_view_module": "@jupyter-widgets/base",
            "_model_module_version": "1.5.0",
            "_view_count": null,
            "_view_module_version": "1.2.0",
            "bar_color": null,
            "_model_module": "@jupyter-widgets/controls"
          }
        },
        "e1dce0cb49a74724ad98275747b2509d": {
          "model_module": "@jupyter-widgets/base",
          "model_name": "LayoutModel",
          "state": {
            "_view_name": "LayoutView",
            "grid_template_rows": null,
            "right": null,
            "justify_content": null,
            "_view_module": "@jupyter-widgets/base",
            "overflow": null,
            "_model_module_version": "1.2.0",
            "_view_count": null,
            "flex_flow": null,
            "width": null,
            "min_width": null,
            "border": null,
            "align_items": null,
            "bottom": null,
            "_model_module": "@jupyter-widgets/base",
            "top": null,
            "grid_column": null,
            "overflow_y": null,
            "overflow_x": null,
            "grid_auto_flow": null,
            "grid_area": null,
            "grid_template_columns": null,
            "flex": null,
            "_model_name": "LayoutModel",
            "justify_items": null,
            "grid_row": null,
            "max_height": null,
            "align_content": null,
            "visibility": null,
            "align_self": null,
            "height": null,
            "min_height": null,
            "padding": null,
            "grid_auto_rows": null,
            "grid_gap": null,
            "max_width": null,
            "order": null,
            "_view_module_version": "1.2.0",
            "grid_template_areas": null,
            "object_position": null,
            "object_fit": null,
            "grid_auto_columns": null,
            "margin": null,
            "display": null,
            "left": null
          }
        },
        "4521cfe058a8405fb82b7199095700bf": {
          "model_module": "@jupyter-widgets/controls",
          "model_name": "DescriptionStyleModel",
          "state": {
            "_view_name": "StyleView",
            "_model_name": "DescriptionStyleModel",
            "description_width": "",
            "_view_module": "@jupyter-widgets/base",
            "_model_module_version": "1.5.0",
            "_view_count": null,
            "_view_module_version": "1.2.0",
            "_model_module": "@jupyter-widgets/controls"
          }
        },
        "c692e9e6d0ff460fbef8e93060d4e837": {
          "model_module": "@jupyter-widgets/base",
          "model_name": "LayoutModel",
          "state": {
            "_view_name": "LayoutView",
            "grid_template_rows": null,
            "right": null,
            "justify_content": null,
            "_view_module": "@jupyter-widgets/base",
            "overflow": null,
            "_model_module_version": "1.2.0",
            "_view_count": null,
            "flex_flow": null,
            "width": null,
            "min_width": null,
            "border": null,
            "align_items": null,
            "bottom": null,
            "_model_module": "@jupyter-widgets/base",
            "top": null,
            "grid_column": null,
            "overflow_y": null,
            "overflow_x": null,
            "grid_auto_flow": null,
            "grid_area": null,
            "grid_template_columns": null,
            "flex": null,
            "_model_name": "LayoutModel",
            "justify_items": null,
            "grid_row": null,
            "max_height": null,
            "align_content": null,
            "visibility": null,
            "align_self": null,
            "height": null,
            "min_height": null,
            "padding": null,
            "grid_auto_rows": null,
            "grid_gap": null,
            "max_width": null,
            "order": null,
            "_view_module_version": "1.2.0",
            "grid_template_areas": null,
            "object_position": null,
            "object_fit": null,
            "grid_auto_columns": null,
            "margin": null,
            "display": null,
            "left": null
          }
        }
      }
    }
  },
  "cells": [
    {
      "cell_type": "markdown",
      "metadata": {
        "id": "view-in-github",
        "colab_type": "text"
      },
      "source": [
        "<a href=\"https://colab.research.google.com/github/bhargav23/CNN-Projects/blob/master/VGG/Fashion_Mnist_VGG13.ipynb\" target=\"_parent\"><img src=\"https://colab.research.google.com/assets/colab-badge.svg\" alt=\"Open In Colab\"/></a>"
      ]
    },
    {
      "cell_type": "code",
      "metadata": {
        "id": "SAOyEIXCWEVK",
        "colab_type": "code",
        "colab": {}
      },
      "source": [
        "import torch\n",
        "import torchvision\n",
        "import torchvision.transforms as transforms\n",
        "\n",
        "\n",
        "import torch.nn as nn\n",
        "import torch.nn.functional as F\n",
        "import torch.optim as optim"
      ],
      "execution_count": null,
      "outputs": []
    },
    {
      "cell_type": "code",
      "metadata": {
        "id": "tFJ71IMF0Ixx",
        "colab_type": "code",
        "colab": {
          "base_uri": "https://localhost:8080/",
          "height": 145
        },
        "outputId": "a8820d08-078c-4c49-e382-a65387bc047e"
      },
      "source": [
        "!git clone https://github.com/bhargav23/CNN-Projects"
      ],
      "execution_count": null,
      "outputs": [
        {
          "output_type": "stream",
          "text": [
            "Cloning into 'CNN-Projects'...\n",
            "remote: Enumerating objects: 133, done.\u001b[K\n",
            "remote: Counting objects:   0% (1/133)\u001b[K\rremote: Counting objects:   1% (2/133)\u001b[K\rremote: Counting objects:   2% (3/133)\u001b[K\rremote: Counting objects:   3% (4/133)\u001b[K\rremote: Counting objects:   4% (6/133)\u001b[K\rremote: Counting objects:   5% (7/133)\u001b[K\rremote: Counting objects:   6% (8/133)\u001b[K\rremote: Counting objects:   7% (10/133)\u001b[K\rremote: Counting objects:   8% (11/133)\u001b[K\rremote: Counting objects:   9% (12/133)\u001b[K\rremote: Counting objects:  10% (14/133)\u001b[K\rremote: Counting objects:  11% (15/133)\u001b[K\rremote: Counting objects:  12% (16/133)\u001b[K\rremote: Counting objects:  13% (18/133)\u001b[K\rremote: Counting objects:  14% (19/133)\u001b[K\rremote: Counting objects:  15% (20/133)\u001b[K\rremote: Counting objects:  16% (22/133)\u001b[K\rremote: Counting objects:  17% (23/133)\u001b[K\rremote: Counting objects:  18% (24/133)\u001b[K\rremote: Counting objects:  19% (26/133)\u001b[K\rremote: Counting objects:  20% (27/133)\u001b[K\rremote: Counting objects:  21% (28/133)\u001b[K\rremote: Counting objects:  22% (30/133)\u001b[K\rremote: Counting objects:  23% (31/133)\u001b[K\rremote: Counting objects:  24% (32/133)\u001b[K\rremote: Counting objects:  25% (34/133)\u001b[K\rremote: Counting objects:  26% (35/133)\u001b[K\rremote: Counting objects:  27% (36/133)\u001b[K\rremote: Counting objects:  28% (38/133)\u001b[K\rremote: Counting objects:  29% (39/133)\u001b[K\rremote: Counting objects:  30% (40/133)\u001b[K\rremote: Counting objects:  31% (42/133)\u001b[K\rremote: Counting objects:  32% (43/133)\u001b[K\rremote: Counting objects:  33% (44/133)\u001b[K\rremote: Counting objects:  34% (46/133)\u001b[K\rremote: Counting objects:  35% (47/133)\u001b[K\rremote: Counting objects:  36% (48/133)\u001b[K\rremote: Counting objects:  37% (50/133)\u001b[K\rremote: Counting objects:  38% (51/133)\u001b[K\rremote: Counting objects:  39% (52/133)\u001b[K\rremote: Counting objects:  40% (54/133)\u001b[K\rremote: Counting objects:  41% (55/133)\u001b[K\rremote: Counting objects:  42% (56/133)\u001b[K\rremote: Counting objects:  43% (58/133)\u001b[K\rremote: Counting objects:  44% (59/133)\u001b[K\rremote: Counting objects:  45% (60/133)\u001b[K\rremote: Counting objects:  46% (62/133)\u001b[K\rremote: Counting objects:  47% (63/133)\u001b[K\rremote: Counting objects:  48% (64/133)\u001b[K\rremote: Counting objects:  49% (66/133)\u001b[K\rremote: Counting objects:  50% (67/133)\u001b[K\rremote: Counting objects:  51% (68/133)\u001b[K\rremote: Counting objects:  52% (70/133)\u001b[K\rremote: Counting objects:  53% (71/133)\u001b[K\rremote: Counting objects:  54% (72/133)\u001b[K\rremote: Counting objects:  55% (74/133)\u001b[K\rremote: Counting objects:  56% (75/133)\u001b[K\rremote: Counting objects:  57% (76/133)\u001b[K\rremote: Counting objects:  58% (78/133)\u001b[K\rremote: Counting objects:  59% (79/133)\u001b[K\rremote: Counting objects:  60% (80/133)\u001b[K\rremote: Counting objects:  61% (82/133)\u001b[K\rremote: Counting objects:  62% (83/133)\u001b[K\rremote: Counting objects:  63% (84/133)\u001b[K\rremote: Counting objects:  64% (86/133)\u001b[K\rremote: Counting objects:  65% (87/133)\u001b[K\rremote: Counting objects:  66% (88/133)\u001b[K\rremote: Counting objects:  67% (90/133)\u001b[K\rremote: Counting objects:  68% (91/133)\u001b[K\rremote: Counting objects:  69% (92/133)\u001b[K\rremote: Counting objects:  70% (94/133)\u001b[K\rremote: Counting objects:  71% (95/133)\u001b[K\rremote: Counting objects:  72% (96/133)\u001b[K\rremote: Counting objects:  73% (98/133)\u001b[K\rremote: Counting objects:  74% (99/133)\u001b[K\rremote: Counting objects:  75% (100/133)\u001b[K\rremote: Counting objects:  76% (102/133)\u001b[K\rremote: Counting objects:  77% (103/133)\u001b[K\rremote: Counting objects:  78% (104/133)\u001b[K\rremote: Counting objects:  79% (106/133)\u001b[K\rremote: Counting objects:  80% (107/133)\u001b[K\rremote: Counting objects:  81% (108/133)\u001b[K\rremote: Counting objects:  82% (110/133)\u001b[K\rremote: Counting objects:  83% (111/133)\u001b[K\rremote: Counting objects:  84% (112/133)\u001b[K\rremote: Counting objects:  85% (114/133)\u001b[K\rremote: Counting objects:  86% (115/133)\u001b[K\rremote: Counting objects:  87% (116/133)\u001b[K\rremote: Counting objects:  88% (118/133)\u001b[K\rremote: Counting objects:  89% (119/133)\u001b[K\rremote: Counting objects:  90% (120/133)\u001b[K\rremote: Counting objects:  91% (122/133)\u001b[K\rremote: Counting objects:  92% (123/133)\u001b[K\rremote: Counting objects:  93% (124/133)\u001b[K\rremote: Counting objects:  94% (126/133)\u001b[K\rremote: Counting objects:  95% (127/133)\u001b[K\rremote: Counting objects:  96% (128/133)\u001b[K\rremote: Counting objects:  97% (130/133)\u001b[K\rremote: Counting objects:  98% (131/133)\u001b[K\rremote: Counting objects:  99% (132/133)\u001b[K\rremote: Counting objects: 100% (133/133)\u001b[K\rremote: Counting objects: 100% (133/133), done.\u001b[K\n",
            "remote: Compressing objects:   0% (1/127)\u001b[K\rremote: Compressing objects:   1% (2/127)\u001b[K\rremote: Compressing objects:   2% (3/127)\u001b[K\rremote: Compressing objects:   3% (4/127)\u001b[K\rremote: Compressing objects:   4% (6/127)\u001b[K\rremote: Compressing objects:   5% (7/127)\u001b[K\rremote: Compressing objects:   6% (8/127)\u001b[K\rremote: Compressing objects:   7% (9/127)\u001b[K\rremote: Compressing objects:   8% (11/127)\u001b[K\rremote: Compressing objects:   9% (12/127)\u001b[K\rremote: Compressing objects:  10% (13/127)\u001b[K\rremote: Compressing objects:  11% (14/127)\u001b[K\rremote: Compressing objects:  12% (16/127)\u001b[K\rremote: Compressing objects:  13% (17/127)\u001b[K\rremote: Compressing objects:  14% (18/127)\u001b[K\rremote: Compressing objects:  15% (20/127)\u001b[K\rremote: Compressing objects:  16% (21/127)\u001b[K\rremote: Compressing objects:  17% (22/127)\u001b[K\rremote: Compressing objects:  18% (23/127)\u001b[K\rremote: Compressing objects:  19% (25/127)\u001b[K\rremote: Compressing objects:  20% (26/127)\u001b[K\rremote: Compressing objects:  21% (27/127)\u001b[K\rremote: Compressing objects:  22% (28/127)\u001b[K\rremote: Compressing objects:  23% (30/127)\u001b[K\rremote: Compressing objects:  24% (31/127)\u001b[K\rremote: Compressing objects:  25% (32/127)\u001b[K\rremote: Compressing objects:  26% (34/127)\u001b[K\rremote: Compressing objects:  27% (35/127)\u001b[K\rremote: Compressing objects:  28% (36/127)\u001b[K\rremote: Compressing objects:  29% (37/127)\u001b[K\rremote: Compressing objects:  30% (39/127)\u001b[K\rremote: Compressing objects:  31% (40/127)\u001b[K\rremote: Compressing objects:  32% (41/127)\u001b[K\rremote: Compressing objects:  33% (42/127)\u001b[K\rremote: Compressing objects:  34% (44/127)\u001b[K\rremote: Compressing objects:  35% (45/127)\u001b[K\rremote: Compressing objects:  36% (46/127)\u001b[K\rremote: Compressing objects:  37% (47/127)\u001b[K\rremote: Compressing objects:  38% (49/127)\u001b[K\rremote: Compressing objects:  39% (50/127)\u001b[K\rremote: Compressing objects:  40% (51/127)\u001b[K\rremote: Compressing objects:  41% (53/127)\u001b[K\rremote: Compressing objects:  42% (54/127)\u001b[K\rremote: Compressing objects:  43% (55/127)\u001b[K\rremote: Compressing objects:  44% (56/127)\u001b[K\rremote: Compressing objects:  45% (58/127)\u001b[K\rremote: Compressing objects:  46% (59/127)\u001b[K\rremote: Compressing objects:  47% (60/127)\u001b[K\rremote: Compressing objects:  48% (61/127)\u001b[K\rremote: Compressing objects:  49% (63/127)\u001b[K\rremote: Compressing objects:  50% (64/127)\u001b[K\rremote: Compressing objects:  51% (65/127)\u001b[K\rremote: Compressing objects:  52% (67/127)\u001b[K\rremote: Compressing objects:  53% (68/127)\u001b[K\rremote: Compressing objects:  54% (69/127)\u001b[K\rremote: Compressing objects:  55% (70/127)\u001b[K\rremote: Compressing objects:  56% (72/127)\u001b[K\rremote: Compressing objects:  57% (73/127)\u001b[K\rremote: Compressing objects:  58% (74/127)\u001b[K\rremote: Compressing objects:  59% (75/127)\u001b[K\rremote: Compressing objects:  60% (77/127)\u001b[K\rremote: Compressing objects:  61% (78/127)\u001b[K\rremote: Compressing objects:  62% (79/127)\u001b[K\rremote: Compressing objects:  63% (81/127)\u001b[K\rremote: Compressing objects:  64% (82/127)\u001b[K\rremote: Compressing objects:  65% (83/127)\u001b[K\rremote: Compressing objects:  66% (84/127)\u001b[K\rremote: Compressing objects:  67% (86/127)\u001b[K\rremote: Compressing objects:  68% (87/127)\u001b[K\rremote: Compressing objects:  69% (88/127)\u001b[K\rremote: Compressing objects:  70% (89/127)\u001b[K\rremote: Compressing objects:  71% (91/127)\u001b[K\rremote: Compressing objects:  72% (92/127)\u001b[K\rremote: Compressing objects:  73% (93/127)\u001b[K\rremote: Compressing objects:  74% (94/127)\u001b[K\rremote: Compressing objects:  75% (96/127)\u001b[K\rremote: Compressing objects:  76% (97/127)\u001b[K\rremote: Compressing objects:  77% (98/127)\u001b[K\rremote: Compressing objects:  78% (100/127)\u001b[K\rremote: Compressing objects:  79% (101/127)\u001b[K\rremote: Compressing objects:  80% (102/127)\u001b[K\rremote: Compressing objects:  81% (103/127)\u001b[K\rremote: Compressing objects:  82% (105/127)\u001b[K\rremote: Compressing objects:  83% (106/127)\u001b[K\rremote: Compressing objects:  84% (107/127)\u001b[K\rremote: Compressing objects:  85% (108/127)\u001b[K\rremote: Compressing objects:  86% (110/127)\u001b[K\rremote: Compressing objects:  87% (111/127)\u001b[K\rremote: Compressing objects:  88% (112/127)\u001b[K\rremote: Compressing objects:  89% (114/127)\u001b[K\rremote: Compressing objects:  90% (115/127)\u001b[K\rremote: Compressing objects:  91% (116/127)\u001b[K\rremote: Compressing objects:  92% (117/127)\u001b[K\rremote: Compressing objects:  93% (119/127)\u001b[K\rremote: Compressing objects:  94% (120/127)\u001b[K\rremote: Compressing objects:  95% (121/127)\u001b[K\rremote: Compressing objects:  96% (122/127)\u001b[K\rremote: Compressing objects:  97% (124/127)\u001b[K\rremote: Compressing objects:  98% (125/127)\u001b[K\rremote: Compressing objects:  99% (126/127)\u001b[K\rremote: Compressing objects: 100% (127/127)\u001b[K\rremote: Compressing objects: 100% (127/127), done.\u001b[K\n",
            "Receiving objects:   0% (1/133)   \rReceiving objects:   1% (2/133)   \rReceiving objects:   2% (3/133)   \rReceiving objects:   3% (4/133)   \rReceiving objects:   4% (6/133)   \rReceiving objects:   5% (7/133)   \rReceiving objects:   6% (8/133)   \rReceiving objects:   7% (10/133)   \rReceiving objects:   8% (11/133)   \rReceiving objects:   9% (12/133)   \rReceiving objects:  10% (14/133)   \rReceiving objects:  11% (15/133)   \rReceiving objects:  12% (16/133)   \rReceiving objects:  13% (18/133)   \rReceiving objects:  14% (19/133)   \rReceiving objects:  15% (20/133)   \rReceiving objects:  16% (22/133)   \rReceiving objects:  17% (23/133)   \rReceiving objects:  18% (24/133)   \rReceiving objects:  19% (26/133)   \rReceiving objects:  20% (27/133)   \rReceiving objects:  21% (28/133)   \rReceiving objects:  22% (30/133)   \rReceiving objects:  23% (31/133)   \rReceiving objects:  24% (32/133)   \rReceiving objects:  25% (34/133)   \rReceiving objects:  26% (35/133)   \rReceiving objects:  27% (36/133)   \rReceiving objects:  28% (38/133)   \rReceiving objects:  29% (39/133)   \rReceiving objects:  30% (40/133)   \rReceiving objects:  31% (42/133)   \rReceiving objects:  32% (43/133)   \rReceiving objects:  33% (44/133)   \rReceiving objects:  34% (46/133)   \rReceiving objects:  35% (47/133)   \rReceiving objects:  36% (48/133)   \rReceiving objects:  37% (50/133)   \rReceiving objects:  38% (51/133)   \rReceiving objects:  39% (52/133)   \rReceiving objects:  40% (54/133)   \rReceiving objects:  41% (55/133)   \rReceiving objects:  42% (56/133)   \rReceiving objects:  43% (58/133)   \rReceiving objects:  44% (59/133)   \rReceiving objects:  45% (60/133)   \rReceiving objects:  46% (62/133)   \rReceiving objects:  47% (63/133)   \rReceiving objects:  48% (64/133)   \rReceiving objects:  49% (66/133)   \rremote: Total 133 (delta 69), reused 0 (delta 0), pack-reused 0\u001b[K\n",
            "Receiving objects:  50% (67/133)   \rReceiving objects:  51% (68/133)   \rReceiving objects:  52% (70/133)   \rReceiving objects:  53% (71/133)   \rReceiving objects:  54% (72/133)   \rReceiving objects:  55% (74/133)   \rReceiving objects:  56% (75/133)   \rReceiving objects:  57% (76/133)   \rReceiving objects:  58% (78/133)   \rReceiving objects:  59% (79/133)   \rReceiving objects:  60% (80/133)   \rReceiving objects:  61% (82/133)   \rReceiving objects:  62% (83/133)   \rReceiving objects:  63% (84/133)   \rReceiving objects:  64% (86/133)   \rReceiving objects:  65% (87/133)   \rReceiving objects:  66% (88/133)   \rReceiving objects:  67% (90/133)   \rReceiving objects:  68% (91/133)   \rReceiving objects:  69% (92/133)   \rReceiving objects:  70% (94/133)   \rReceiving objects:  71% (95/133)   \rReceiving objects:  72% (96/133)   \rReceiving objects:  73% (98/133)   \rReceiving objects:  74% (99/133)   \rReceiving objects:  75% (100/133)   \rReceiving objects:  76% (102/133)   \rReceiving objects:  77% (103/133)   \rReceiving objects:  78% (104/133)   \rReceiving objects:  79% (106/133)   \rReceiving objects:  80% (107/133)   \rReceiving objects:  81% (108/133)   \rReceiving objects:  82% (110/133)   \rReceiving objects:  83% (111/133)   \rReceiving objects:  84% (112/133)   \rReceiving objects:  85% (114/133)   \rReceiving objects:  86% (115/133)   \rReceiving objects:  87% (116/133)   \rReceiving objects:  88% (118/133)   \rReceiving objects:  89% (119/133)   \rReceiving objects:  90% (120/133)   \rReceiving objects:  91% (122/133)   \rReceiving objects:  92% (123/133)   \rReceiving objects:  93% (124/133)   \rReceiving objects:  94% (126/133)   \rReceiving objects:  95% (127/133)   \rReceiving objects:  96% (128/133)   \rReceiving objects:  97% (130/133)   \rReceiving objects:  98% (131/133)   \rReceiving objects:  99% (132/133)   \rReceiving objects: 100% (133/133)   \rReceiving objects: 100% (133/133), 475.64 KiB | 5.11 MiB/s, done.\n",
            "Resolving deltas:   0% (0/69)   \rResolving deltas:  37% (26/69)   \rResolving deltas:  46% (32/69)   \rResolving deltas:  69% (48/69)   \rResolving deltas:  86% (60/69)   \rResolving deltas:  89% (62/69)   \rResolving deltas:  95% (66/69)   \rResolving deltas: 100% (69/69)   \rResolving deltas: 100% (69/69), done.\n"
          ],
          "name": "stdout"
        }
      ]
    },
    {
      "cell_type": "code",
      "metadata": {
        "id": "rMX3DTgAWOcv",
        "colab_type": "code",
        "colab": {}
      },
      "source": [
        "#from google.colab import drive\n",
        "#drive.mount('/content/drive')"
      ],
      "execution_count": null,
      "outputs": []
    },
    {
      "cell_type": "code",
      "metadata": {
        "id": "O_TvqcOFWRJF",
        "colab_type": "code",
        "colab": {}
      },
      "source": [
        "import sys\n",
        "sys.path.append('/content/CNN-Projects/Libraries')"
      ],
      "execution_count": null,
      "outputs": []
    },
    {
      "cell_type": "code",
      "metadata": {
        "id": "c0K4gnBLWctx",
        "colab_type": "code",
        "colab": {
          "base_uri": "https://localhost:8080/",
          "height": 401,
          "referenced_widgets": [
            "68fdf3194078495aa14d1d56192a96f3",
            "7a8a1263ff7f4f92b945e3aadb51382f",
            "3c570e567cdf4d2983dfba7074a6ee84",
            "2efda85141bb4005b8ccc6c45708a7f0",
            "46c98437a1ad4dd98610fb73e9dea4a4",
            "bf1847da89ed48acaaa86a7742659ec0",
            "1e300973b4f046c2af8694cacad62c16",
            "d6989815be3f4f708d4669ca433bcffe",
            "e88b3d25578642138a20377819f0f79b",
            "aa745e4d8b724f2a83f83f10fbce8f95",
            "a5ec33d0dbf6442f8bd3a759ffe1b2ed",
            "41b2b04b09b84497abb9eb3916f7387e",
            "738c20ff9b3a409b81ddeb017cbb0059",
            "a256150866bf4a4e9d44b5607ab570da",
            "bd1cc016e6034cf99f57c49f11d0fbc8",
            "e1474f46809d47a89bf77cfe20202603",
            "d0e1438cdbe34ab0b69667c3721711b4",
            "61528c1a91db46d3a17ccebea63d2798",
            "141d7db86f414a849d69f8d6c8a5c948",
            "15f32a0fe83848f1bb7c4dadc2d31b74",
            "974d667a61fa444d9a9038b837042552",
            "f7158e5f1c41494ba24fffd0ddb63bf9",
            "8a3b2a104d6144429003e067747c343b",
            "eb7827cd60a345a399585e3f92c01db4",
            "39aa08893daa4482b3afc7169eecbc81",
            "adbebdf19e6740cdb65ce6084f67d6d6",
            "1ed8a23468ca44c994e6e2cb85b6d1ae",
            "a7771bd6c642499b93c30fa679640616",
            "52e5dee5ae66488cb2ddfa5396fac27f",
            "e1dce0cb49a74724ad98275747b2509d",
            "4521cfe058a8405fb82b7199095700bf",
            "c692e9e6d0ff460fbef8e93060d4e837"
          ]
        },
        "outputId": "64fd6ab1-6fef-48b9-f0a7-0799d836a18b"
      },
      "source": [
        "import evadataloader\n",
        "dataloader = evadataloader.DataLoader()\n",
        "\n",
        "\n",
        "# Train Phase transformations\n",
        "train_transforms = transforms.Compose([\n",
        "                                        transforms.Resize((28, 28)),\n",
        "                                        #transforms.ColorJitter(brightness=0.10, contrast=0.1, saturation=0.10, hue=0.1),\n",
        "                                       transforms.RandomRotation((-7.0, 7.0), fill=(1,)),\n",
        "                                       transforms.ToTensor(),\n",
        "                                       transforms.Normalize((0.1307,), (0.3081,)) # The mean and std have to be sequences (e.g., tuples), therefore you should add a comma after the values. \n",
        "                                       # Note the difference between (0.1307) and (0.1307,)\n",
        "                                       ])\n",
        "\n",
        "# Test Phase transformations\n",
        "test_transforms = transforms.Compose([\n",
        "                                        transforms.Resize((28, 28)),\n",
        "                                        #transforms.ColorJitter(brightness=0.10, contrast=0.1, saturation=0.10, hue=0.1),\n",
        "                                       transforms.ToTensor(),\n",
        "                                       transforms.Normalize((0.1307,), (0.3081,))\n",
        "                                       ])\n",
        "\n",
        "\n",
        "\n",
        "trainset = torchvision.datasets.FashionMNIST(root='./data', train=True,\n",
        "                                        download=True, transform=train_transforms)\n",
        "trainloader = dataloader.load(trainset)\n",
        "\n",
        "testset = torchvision.datasets.FashionMNIST(root='./data', train=False,\n",
        "                                       download=True, transform=test_transforms)\n",
        "testloader = dataloader.load(testset)\n",
        "\n",
        "classes = ('T-shirt/top','Trouser','Pullover','Dress','Coat','Sandal','Shirt','Sneaker','Bag','Ankle boot')"
      ],
      "execution_count": null,
      "outputs": [
        {
          "output_type": "stream",
          "text": [
            "Downloading http://fashion-mnist.s3-website.eu-central-1.amazonaws.com/train-images-idx3-ubyte.gz to ./data/FashionMNIST/raw/train-images-idx3-ubyte.gz\n"
          ],
          "name": "stdout"
        },
        {
          "output_type": "display_data",
          "data": {
            "application/vnd.jupyter.widget-view+json": {
              "model_id": "68fdf3194078495aa14d1d56192a96f3",
              "version_minor": 0,
              "version_major": 2
            },
            "text/plain": [
              "HBox(children=(FloatProgress(value=1.0, bar_style='info', max=1.0), HTML(value='')))"
            ]
          },
          "metadata": {
            "tags": []
          }
        },
        {
          "output_type": "stream",
          "text": [
            "Extracting ./data/FashionMNIST/raw/train-images-idx3-ubyte.gz to ./data/FashionMNIST/raw\n",
            "Downloading http://fashion-mnist.s3-website.eu-central-1.amazonaws.com/train-labels-idx1-ubyte.gz to ./data/FashionMNIST/raw/train-labels-idx1-ubyte.gz\n"
          ],
          "name": "stdout"
        },
        {
          "output_type": "display_data",
          "data": {
            "application/vnd.jupyter.widget-view+json": {
              "model_id": "e88b3d25578642138a20377819f0f79b",
              "version_minor": 0,
              "version_major": 2
            },
            "text/plain": [
              "HBox(children=(FloatProgress(value=1.0, bar_style='info', max=1.0), HTML(value='')))"
            ]
          },
          "metadata": {
            "tags": []
          }
        },
        {
          "output_type": "stream",
          "text": [
            "Extracting ./data/FashionMNIST/raw/train-labels-idx1-ubyte.gz to ./data/FashionMNIST/raw\n",
            "Downloading http://fashion-mnist.s3-website.eu-central-1.amazonaws.com/t10k-images-idx3-ubyte.gz to ./data/FashionMNIST/raw/t10k-images-idx3-ubyte.gz\n"
          ],
          "name": "stdout"
        },
        {
          "output_type": "display_data",
          "data": {
            "application/vnd.jupyter.widget-view+json": {
              "model_id": "d0e1438cdbe34ab0b69667c3721711b4",
              "version_minor": 0,
              "version_major": 2
            },
            "text/plain": [
              "HBox(children=(FloatProgress(value=1.0, bar_style='info', max=1.0), HTML(value='')))"
            ]
          },
          "metadata": {
            "tags": []
          }
        },
        {
          "output_type": "stream",
          "text": [
            "Extracting ./data/FashionMNIST/raw/t10k-images-idx3-ubyte.gz to ./data/FashionMNIST/raw\n",
            "Downloading http://fashion-mnist.s3-website.eu-central-1.amazonaws.com/t10k-labels-idx1-ubyte.gz to ./data/FashionMNIST/raw/t10k-labels-idx1-ubyte.gz\n",
            "\n",
            "\n"
          ],
          "name": "stdout"
        },
        {
          "output_type": "display_data",
          "data": {
            "application/vnd.jupyter.widget-view+json": {
              "model_id": "39aa08893daa4482b3afc7169eecbc81",
              "version_minor": 0,
              "version_major": 2
            },
            "text/plain": [
              "HBox(children=(FloatProgress(value=1.0, bar_style='info', max=1.0), HTML(value='')))"
            ]
          },
          "metadata": {
            "tags": []
          }
        },
        {
          "output_type": "stream",
          "text": [
            "Extracting ./data/FashionMNIST/raw/t10k-labels-idx1-ubyte.gz to ./data/FashionMNIST/raw\n",
            "Processing...\n",
            "Done!\n"
          ],
          "name": "stdout"
        },
        {
          "output_type": "stream",
          "text": [
            "/pytorch/torch/csrc/utils/tensor_numpy.cpp:141: UserWarning: The given NumPy array is not writeable, and PyTorch does not support non-writeable tensors. This means you can write to the underlying (supposedly non-writeable) NumPy array using the tensor. You may want to copy the array to protect its data or make it writeable before converting it to a tensor. This type of warning will be suppressed for the rest of this program.\n"
          ],
          "name": "stderr"
        }
      ]
    },
    {
      "cell_type": "code",
      "metadata": {
        "id": "q3C4DtgTHPo4",
        "colab_type": "code",
        "colab": {
          "base_uri": "https://localhost:8080/",
          "height": 464
        },
        "outputId": "e87dacba-e0c9-497f-a033-92887e13225c"
      },
      "source": [
        "dataiter = iter(trainloader)\n",
        "images, labels = dataiter.next()\n",
        "\n",
        "print(images.shape)\n",
        "print(labels.shape)\n",
        "\n",
        "from matplotlib import pyplot as plt\n",
        "import matplotlib.gridspec as gridspec\n",
        "\n",
        "%matplotlib inline\n",
        "def show25(images, labels):\n",
        "  r, c = 5, 5\n",
        "  figmatrix = plt.figure(figsize=(7, 7))\n",
        "  gs1 = gridspec.GridSpec(r, c)\n",
        "  gs1.update(wspace=0.5, hspace=0.5) # set the \n",
        "  for i in range(1, r*c+1):\n",
        "    plt.subplot(gs1[i-1])\n",
        "    plt.tick_params( axis='both', which='both', labelbottom=False, labelleft=False, left=False, bottom=False)\n",
        "    plt.imshow(images[i-1].numpy().squeeze(), cmap='gray_r')\n",
        "    plt.title(classes[labels[i-1]])\n",
        "  plt.show()\n",
        "\n",
        "show25(images[:25], labels[:25])"
      ],
      "execution_count": null,
      "outputs": [
        {
          "output_type": "stream",
          "text": [
            "torch.Size([512, 1, 28, 28])\n",
            "torch.Size([512])\n"
          ],
          "name": "stdout"
        },
        {
          "output_type": "display_data",
          "data": {
            "image/png": "[encoded data removed]",
            "text/plain": [
              "<Figure size 504x504 with 25 Axes>"
            ]
          },
          "metadata": {
            "tags": []
          }
        }
      ]
    },
    {
      "cell_type": "code",
      "metadata": {
        "id": "BUF9CUf6yTHQ",
        "colab_type": "code",
        "colab": {}
      },
      "source": [
        "import vggnet\n",
        "net = vggnet.VGG('VGG13')"
      ],
      "execution_count": null,
      "outputs": []
    },
    {
      "cell_type": "code",
      "metadata": {
        "id": "ULOXSRvzXm7r",
        "colab_type": "code",
        "colab": {}
      },
      "source": [
        "import torch.optim as optim\n",
        "import torch.nn as nn\n",
        "import torch.nn.functional as F\n",
        "\n",
        "criterion = nn.CrossEntropyLoss()\n",
        "optimizer = optim.SGD(net.parameters(), lr=0.001, momentum=0.9)"
      ],
      "execution_count": null,
      "outputs": []
    },
    {
      "cell_type": "code",
      "metadata": {
        "id": "-QVRy05VXpU0",
        "colab_type": "code",
        "colab": {
          "base_uri": "https://localhost:8080/",
          "height": 817
        },
        "outputId": "f8b2f080-5914-442e-e7a0-30f7a7369a71"
      },
      "source": [
        "from torchsummary import summary\n",
        "use_cuda = torch.cuda.is_available()\n",
        "device = torch.device(\"cuda\" if use_cuda else \"cpu\")\n",
        "print(device)\n",
        "model = net.to(device)\n",
        "summary(model, input_size=(1, 28, 28))"
      ],
      "execution_count": null,
      "outputs": [
        {
          "output_type": "stream",
          "text": [
            "cuda\n",
            "----------------------------------------------------------------\n",
            "        Layer (type)               Output Shape         Param #\n",
            "================================================================\n",
            "            Conv2d-1           [-1, 64, 28, 28]             640\n",
            "       BatchNorm2d-2           [-1, 64, 28, 28]             128\n",
            "              ReLU-3           [-1, 64, 28, 28]               0\n",
            "            Conv2d-4           [-1, 64, 28, 28]          36,928\n",
            "       BatchNorm2d-5           [-1, 64, 28, 28]             128\n",
            "              ReLU-6           [-1, 64, 28, 28]               0\n",
            "         MaxPool2d-7           [-1, 64, 14, 14]               0\n",
            "            Conv2d-8          [-1, 128, 14, 14]          73,856\n",
            "       BatchNorm2d-9          [-1, 128, 14, 14]             256\n",
            "             ReLU-10          [-1, 128, 14, 14]               0\n",
            "           Conv2d-11          [-1, 128, 14, 14]         147,584\n",
            "      BatchNorm2d-12          [-1, 128, 14, 14]             256\n",
            "             ReLU-13          [-1, 128, 14, 14]               0\n",
            "        MaxPool2d-14            [-1, 128, 7, 7]               0\n",
            "           Conv2d-15            [-1, 256, 7, 7]         295,168\n",
            "      BatchNorm2d-16            [-1, 256, 7, 7]             512\n",
            "             ReLU-17            [-1, 256, 7, 7]               0\n",
            "           Conv2d-18            [-1, 256, 7, 7]         590,080\n",
            "      BatchNorm2d-19            [-1, 256, 7, 7]             512\n",
            "             ReLU-20            [-1, 256, 7, 7]               0\n",
            "        MaxPool2d-21            [-1, 256, 3, 3]               0\n",
            "           Conv2d-22            [-1, 512, 3, 3]       1,180,160\n",
            "      BatchNorm2d-23            [-1, 512, 3, 3]           1,024\n",
            "             ReLU-24            [-1, 512, 3, 3]               0\n",
            "           Conv2d-25            [-1, 512, 3, 3]       2,359,808\n",
            "      BatchNorm2d-26            [-1, 512, 3, 3]           1,024\n",
            "             ReLU-27            [-1, 512, 3, 3]               0\n",
            "        MaxPool2d-28            [-1, 512, 1, 1]               0\n",
            "        AvgPool2d-29            [-1, 512, 1, 1]               0\n",
            "           Linear-30                   [-1, 10]           5,130\n",
            "================================================================\n",
            "Total params: 4,693,194\n",
            "Trainable params: 4,693,194\n",
            "Non-trainable params: 0\n",
            "----------------------------------------------------------------\n",
            "Input size (MB): 0.00\n",
            "Forward/backward pass size (MB): 4.40\n",
            "Params size (MB): 17.90\n",
            "Estimated Total Size (MB): 22.31\n",
            "----------------------------------------------------------------\n"
          ],
          "name": "stdout"
        }
      ]
    },
    {
      "cell_type": "code",
      "metadata": {
        "id": "7OlSnzgjXtLI",
        "colab_type": "code",
        "colab": {}
      },
      "source": [
        "import evascheduler"
      ],
      "execution_count": null,
      "outputs": []
    },
    {
      "cell_type": "code",
      "metadata": {
        "id": "kqbVc4L7ZQCd",
        "colab_type": "code",
        "colab": {
          "base_uri": "https://localhost:8080/",
          "height": 1000
        },
        "outputId": "9d865636-4dc9-4bc6-e370-f09dff9feb30"
      },
      "source": [
        "from torch.optim.lr_scheduler import StepLR\n",
        "from evascheduler import train,test\n",
        "\n",
        "model =  net.to(device)\n",
        "optimizer = optim.SGD(model.parameters(), lr=0.01, momentum=0.9)\n",
        "scheduler = StepLR(optimizer, step_size=6, gamma=0.1)\n",
        "EPOCHS = 20\n",
        "for epoch in range(EPOCHS):\n",
        "    print(\"EPOCH:\", epoch)\n",
        "    train(model, device, trainloader, optimizer, epoch,criterion)\n",
        "    scheduler.step()\n",
        "    test(model, device, testloader)"
      ],
      "execution_count": null,
      "outputs": [
        {
          "output_type": "stream",
          "text": [
            "EPOCH:"
          ],
          "name": "stdout"
        },
        {
          "output_type": "stream",
          "text": [
            "\r  0%|          | 0/118 [00:00<?, ?it/s]"
          ],
          "name": "stderr"
        },
        {
          "output_type": "stream",
          "text": [
            " 0\n"
          ],
          "name": "stdout"
        },
        {
          "output_type": "stream",
          "text": [
            "Loss=0.33102530241012573 Batch_id=117 Accuracy=83.33: 100%|██████████| 118/118 [01:03<00:00,  1.86it/s]\n",
            "  0%|          | 0/118 [00:00<?, ?it/s]"
          ],
          "name": "stderr"
        },
        {
          "output_type": "stream",
          "text": [
            "\n",
            "Test set: Average loss: 0.1200, Accuracy: 8800/10000 (88.00%)\n",
            "\n",
            "EPOCH: 1\n"
          ],
          "name": "stdout"
        },
        {
          "output_type": "stream",
          "text": [
            "Loss=0.23813514411449432 Batch_id=117 Accuracy=90.46: 100%|██████████| 118/118 [01:03<00:00,  1.86it/s]\n",
            "  0%|          | 0/118 [00:00<?, ?it/s]"
          ],
          "name": "stderr"
        },
        {
          "output_type": "stream",
          "text": [
            "\n",
            "Test set: Average loss: 0.0988, Accuracy: 9012/10000 (90.12%)\n",
            "\n",
            "EPOCH: 2\n"
          ],
          "name": "stdout"
        },
        {
          "output_type": "stream",
          "text": [
            "Loss=0.3421742022037506 Batch_id=117 Accuracy=91.86: 100%|██████████| 118/118 [01:03<00:00,  1.85it/s]\n",
            "  0%|          | 0/118 [00:00<?, ?it/s]"
          ],
          "name": "stderr"
        },
        {
          "output_type": "stream",
          "text": [
            "\n",
            "Test set: Average loss: 0.0931, Accuracy: 9069/10000 (90.69%)\n",
            "\n",
            "EPOCH: 3\n"
          ],
          "name": "stdout"
        },
        {
          "output_type": "stream",
          "text": [
            "Loss=0.1510857194662094 Batch_id=117 Accuracy=92.72: 100%|██████████| 118/118 [01:03<00:00,  1.86it/s]\n",
            "  0%|          | 0/118 [00:00<?, ?it/s]"
          ],
          "name": "stderr"
        },
        {
          "output_type": "stream",
          "text": [
            "\n",
            "Test set: Average loss: 0.0914, Accuracy: 9086/10000 (90.86%)\n",
            "\n",
            "EPOCH: 4\n"
          ],
          "name": "stdout"
        },
        {
          "output_type": "stream",
          "text": [
            "Loss=0.2110210806131363 Batch_id=117 Accuracy=93.80: 100%|██████████| 118/118 [01:03<00:00,  1.85it/s]\n",
            "  0%|          | 0/118 [00:00<?, ?it/s]"
          ],
          "name": "stderr"
        },
        {
          "output_type": "stream",
          "text": [
            "\n",
            "Test set: Average loss: 0.0850, Accuracy: 9150/10000 (91.50%)\n",
            "\n",
            "EPOCH: 5\n"
          ],
          "name": "stdout"
        },
        {
          "output_type": "stream",
          "text": [
            "Loss=0.04645390808582306 Batch_id=117 Accuracy=94.36: 100%|██████████| 118/118 [01:03<00:00,  1.86it/s]\n",
            "  0%|          | 0/118 [00:00<?, ?it/s]"
          ],
          "name": "stderr"
        },
        {
          "output_type": "stream",
          "text": [
            "\n",
            "Test set: Average loss: 0.0788, Accuracy: 9212/10000 (92.12%)\n",
            "\n",
            "EPOCH: 6\n"
          ],
          "name": "stdout"
        },
        {
          "output_type": "stream",
          "text": [
            "Loss=0.08645102381706238 Batch_id=117 Accuracy=96.27: 100%|██████████| 118/118 [01:03<00:00,  1.85it/s]\n",
            "  0%|          | 0/118 [00:00<?, ?it/s]"
          ],
          "name": "stderr"
        },
        {
          "output_type": "stream",
          "text": [
            "\n",
            "Test set: Average loss: 0.0640, Accuracy: 9360/10000 (93.60%)\n",
            "\n",
            "EPOCH: 7\n"
          ],
          "name": "stdout"
        },
        {
          "output_type": "stream",
          "text": [
            "Loss=0.07050833106040955 Batch_id=117 Accuracy=96.91: 100%|██████████| 118/118 [01:03<00:00,  1.86it/s]\n",
            "  0%|          | 0/118 [00:00<?, ?it/s]"
          ],
          "name": "stderr"
        },
        {
          "output_type": "stream",
          "text": [
            "\n",
            "Test set: Average loss: 0.0631, Accuracy: 9369/10000 (93.69%)\n",
            "\n",
            "EPOCH: 8\n"
          ],
          "name": "stdout"
        },
        {
          "output_type": "stream",
          "text": [
            "Loss=0.04569697007536888 Batch_id=117 Accuracy=97.14: 100%|██████████| 118/118 [01:03<00:00,  1.85it/s]\n",
            "  0%|          | 0/118 [00:00<?, ?it/s]"
          ],
          "name": "stderr"
        },
        {
          "output_type": "stream",
          "text": [
            "\n",
            "Test set: Average loss: 0.0631, Accuracy: 9369/10000 (93.69%)\n",
            "\n",
            "EPOCH: 9\n"
          ],
          "name": "stdout"
        },
        {
          "output_type": "stream",
          "text": [
            "Loss=0.08030865341424942 Batch_id=117 Accuracy=97.33: 100%|██████████| 118/118 [01:03<00:00,  1.86it/s]\n",
            "  0%|          | 0/118 [00:00<?, ?it/s]"
          ],
          "name": "stderr"
        },
        {
          "output_type": "stream",
          "text": [
            "\n",
            "Test set: Average loss: 0.0638, Accuracy: 9362/10000 (93.62%)\n",
            "\n",
            "EPOCH: 10\n"
          ],
          "name": "stdout"
        },
        {
          "output_type": "stream",
          "text": [
            "Loss=0.057842668145895004 Batch_id=117 Accuracy=97.49: 100%|██████████| 118/118 [01:03<00:00,  1.85it/s]\n",
            "  0%|          | 0/118 [00:00<?, ?it/s]"
          ],
          "name": "stderr"
        },
        {
          "output_type": "stream",
          "text": [
            "\n",
            "Test set: Average loss: 0.0642, Accuracy: 9358/10000 (93.58%)\n",
            "\n",
            "EPOCH: 11\n"
          ],
          "name": "stdout"
        },
        {
          "output_type": "stream",
          "text": [
            "Loss=0.10450199246406555 Batch_id=117 Accuracy=97.64: 100%|██████████| 118/118 [01:03<00:00,  1.86it/s]\n",
            "  0%|          | 0/118 [00:00<?, ?it/s]"
          ],
          "name": "stderr"
        },
        {
          "output_type": "stream",
          "text": [
            "\n",
            "Test set: Average loss: 0.0628, Accuracy: 9372/10000 (93.72%)\n",
            "\n",
            "EPOCH: 12\n"
          ],
          "name": "stdout"
        },
        {
          "output_type": "stream",
          "text": [
            "Loss=0.09324416518211365 Batch_id=117 Accuracy=97.94: 100%|██████████| 118/118 [01:03<00:00,  1.85it/s]\n",
            "  0%|          | 0/118 [00:00<?, ?it/s]"
          ],
          "name": "stderr"
        },
        {
          "output_type": "stream",
          "text": [
            "\n",
            "Test set: Average loss: 0.0617, Accuracy: 9383/10000 (93.83%)\n",
            "\n",
            "EPOCH: 13\n"
          ],
          "name": "stdout"
        },
        {
          "output_type": "stream",
          "text": [
            "Loss=0.040035512298345566 Batch_id=117 Accuracy=97.96: 100%|██████████| 118/118 [01:03<00:00,  1.86it/s]\n",
            "  0%|          | 0/118 [00:00<?, ?it/s]"
          ],
          "name": "stderr"
        },
        {
          "output_type": "stream",
          "text": [
            "\n",
            "Test set: Average loss: 0.0623, Accuracy: 9377/10000 (93.77%)\n",
            "\n",
            "EPOCH: 14\n"
          ],
          "name": "stdout"
        },
        {
          "output_type": "stream",
          "text": [
            "Loss=0.0489087738096714 Batch_id=117 Accuracy=97.97: 100%|██████████| 118/118 [01:04<00:00,  1.82it/s]\n",
            "  0%|          | 0/118 [00:00<?, ?it/s]"
          ],
          "name": "stderr"
        },
        {
          "output_type": "stream",
          "text": [
            "\n",
            "Test set: Average loss: 0.0619, Accuracy: 9381/10000 (93.81%)\n",
            "\n",
            "EPOCH: 15\n"
          ],
          "name": "stdout"
        },
        {
          "output_type": "stream",
          "text": [
            "Loss=0.0646604672074318 Batch_id=117 Accuracy=98.02: 100%|██████████| 118/118 [01:03<00:00,  1.85it/s]\n",
            "  0%|          | 0/118 [00:00<?, ?it/s]"
          ],
          "name": "stderr"
        },
        {
          "output_type": "stream",
          "text": [
            "\n",
            "Test set: Average loss: 0.0627, Accuracy: 9373/10000 (93.73%)\n",
            "\n",
            "EPOCH: 16\n"
          ],
          "name": "stdout"
        },
        {
          "output_type": "stream",
          "text": [
            "Loss=0.07104673236608505 Batch_id=117 Accuracy=98.10: 100%|██████████| 118/118 [01:04<00:00,  1.82it/s]\n",
            "  0%|          | 0/118 [00:00<?, ?it/s]"
          ],
          "name": "stderr"
        },
        {
          "output_type": "stream",
          "text": [
            "\n",
            "Test set: Average loss: 0.0629, Accuracy: 9371/10000 (93.71%)\n",
            "\n",
            "EPOCH: 17\n"
          ],
          "name": "stdout"
        },
        {
          "output_type": "stream",
          "text": [
            "Loss=0.06561822444200516 Batch_id=117 Accuracy=98.12: 100%|██████████| 118/118 [01:03<00:00,  1.84it/s]\n",
            "  0%|          | 0/118 [00:00<?, ?it/s]"
          ],
          "name": "stderr"
        },
        {
          "output_type": "stream",
          "text": [
            "\n",
            "Test set: Average loss: 0.0624, Accuracy: 9376/10000 (93.76%)\n",
            "\n",
            "EPOCH: 18\n"
          ],
          "name": "stdout"
        },
        {
          "output_type": "stream",
          "text": [
            "Loss=0.09119459241628647 Batch_id=117 Accuracy=98.08: 100%|██████████| 118/118 [01:04<00:00,  1.82it/s]\n",
            "  0%|          | 0/118 [00:00<?, ?it/s]"
          ],
          "name": "stderr"
        },
        {
          "output_type": "stream",
          "text": [
            "\n",
            "Test set: Average loss: 0.0624, Accuracy: 9376/10000 (93.76%)\n",
            "\n",
            "EPOCH: 19\n"
          ],
          "name": "stdout"
        },
        {
          "output_type": "stream",
          "text": [
            "Loss=0.05444633588194847 Batch_id=117 Accuracy=98.07: 100%|██████████| 118/118 [01:03<00:00,  1.86it/s]\n"
          ],
          "name": "stderr"
        },
        {
          "output_type": "stream",
          "text": [
            "\n",
            "Test set: Average loss: 0.0629, Accuracy: 9371/10000 (93.71%)\n",
            "\n"
          ],
          "name": "stdout"
        }
      ]
    },
    {
      "cell_type": "code",
      "metadata": {
        "id": "9AGhLc7BflZV",
        "colab_type": "code",
        "colab": {
          "base_uri": "https://localhost:8080/",
          "height": 295
        },
        "outputId": "f4403af7-9e2d-471d-c8e1-0658e6610b50"
      },
      "source": [
        "from evascheduler import draw_graph\n",
        "draw_graph()"
      ],
      "execution_count": null,
      "outputs": [
        {
          "output_type": "display_data",
          "data": {
            "image/png": "[encoded data removed]",
            "text/plain": [
              "<Figure size 432x288 with 1 Axes>"
            ]
          },
          "metadata": {
            "tags": [],
            "needs_background": "light"
          }
        }
      ]
    },
    {
      "cell_type": "code",
      "metadata": {
        "id": "-JYb_6WGgT8G",
        "colab_type": "code",
        "colab": {}
      },
      "source": [
        "from evascheduler import get_misclassified\n",
        "misclassified = get_misclassified()"
      ],
      "execution_count": null,
      "outputs": []
    },
    {
      "cell_type": "code",
      "metadata": {
        "id": "NDOPWFNd1FPm",
        "colab_type": "code",
        "colab": {}
      },
      "source": [
        "def plot_images(img_data,classes,img_name):\n",
        "  figure = plt.figure(figsize=(10, 10))\n",
        "  \n",
        "  num_of_images = len(img_data)\n",
        "  for index in range(1, num_of_images + 1):\n",
        "      img = img_data[index-1][0][0]\n",
        "      plt.subplot(5, 5, index)\n",
        "      plt.axis('off')\n",
        "      plt.imshow(img.cpu().numpy(),cmap='gray_r')\n",
        "      plt.title(\"Actual: %s\\nPredicted: %s\" % (classes[img_data[index-1][1]], classes[img_data[index-1][2]]))\n",
        "  \n",
        "  plt.tight_layout()\n",
        "  plt.savefig(img_name)\n"
      ],
      "execution_count": null,
      "outputs": []
    },
    {
      "cell_type": "code",
      "metadata": {
        "id": "naM-XuvSgaF5",
        "colab_type": "code",
        "colab": {
          "base_uri": "https://localhost:8080/",
          "height": 729
        },
        "outputId": "05d15426-1196-47e3-eb45-8df44c4a92a0"
      },
      "source": [
        "#import utils\n",
        "#from utils import plot_images\n",
        "plot_images(misclassified,classes,\"misclassified.png\")"
      ],
      "execution_count": null,
      "outputs": [
        {
          "output_type": "display_data",
          "data": {
            "image/png": "[encoded data removed]",
            "text/plain": [
              "<Figure size 720x720 with 25 Axes>"
            ]
          },
          "metadata": {
            "tags": [],
            "needs_background": "light"
          }
        }
      ]
    },
    {
      "cell_type": "code",
      "metadata": {
        "id": "lPBjKj2IJlOt",
        "colab_type": "code",
        "colab": {}
      },
      "source": [
        ""
      ],
      "execution_count": null,
      "outputs": []
    }
  ]
}