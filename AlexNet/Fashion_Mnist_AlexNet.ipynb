{
  "nbformat": 4,
  "nbformat_minor": 0,
  "metadata": {
    "colab": {
      "name": "Fashion Mnist AlexNet.ipynb",
      "provenance": [],
      "authorship_tag": "ABX9TyOstN4RvffrRQ9weAgN9O6t",
      "include_colab_link": true
    },
    "kernelspec": {
      "name": "python3",
      "display_name": "Python 3"
    },
    "accelerator": "GPU"
  },
  "cells": [
    {
      "cell_type": "markdown",
      "metadata": {
        "id": "view-in-github",
        "colab_type": "text"
      },
      "source": [
        "<a href=\"https://colab.research.google.com/github/bhargav23/CNN-Projects/blob/master/AlexNet/Fashion_Mnist_AlexNet.ipynb\" target=\"_parent\"><img src=\"https://colab.research.google.com/assets/colab-badge.svg\" alt=\"Open In Colab\"/></a>"
      ]
    },
    {
      "cell_type": "code",
      "metadata": {
        "id": "SAOyEIXCWEVK",
        "colab_type": "code",
        "colab": {}
      },
      "source": [
        "import torch\n",
        "import torchvision\n",
        "import torchvision.transforms as transforms\n",
        "\n",
        "\n",
        "import torch.nn as nn\n",
        "import torch.nn.functional as F\n",
        "import torch.optim as optim"
      ],
      "execution_count": 1,
      "outputs": []
    },
    {
      "cell_type": "code",
      "metadata": {
        "id": "tFJ71IMF0Ixx",
        "colab_type": "code",
        "colab": {
          "base_uri": "https://localhost:8080/",
          "height": 34
        },
        "outputId": "19e0e15c-7f07-4e19-c858-c70d4e111682"
      },
      "source": [
        "!git clone https://github.com/bhargav23/CNN-Projects"
      ],
      "execution_count": 2,
      "outputs": [
        {
          "output_type": "stream",
          "text": [
            "fatal: destination path 'CNN-Projects' already exists and is not an empty directory.\n"
          ],
          "name": "stdout"
        }
      ]
    },
    {
      "cell_type": "code",
      "metadata": {
        "id": "rMX3DTgAWOcv",
        "colab_type": "code",
        "colab": {}
      },
      "source": [
        "#from google.colab import drive\n",
        "#drive.mount('/content/drive')"
      ],
      "execution_count": 3,
      "outputs": []
    },
    {
      "cell_type": "code",
      "metadata": {
        "id": "O_TvqcOFWRJF",
        "colab_type": "code",
        "colab": {}
      },
      "source": [
        "import sys\n",
        "sys.path.append('/content/CNN-Projects/Libraries')"
      ],
      "execution_count": 4,
      "outputs": []
    },
    {
      "cell_type": "code",
      "metadata": {
        "id": "c0K4gnBLWctx",
        "colab_type": "code",
        "colab": {}
      },
      "source": [
        "import evadataloader\n",
        "dataloader = evadataloader.DataLoader()\n",
        "\n",
        "\n",
        "# Train Phase transformations\n",
        "train_transforms = transforms.Compose([\n",
        "                                        transforms.Resize((227, 227)),\n",
        "                                        #transforms.ColorJitter(brightness=0.10, contrast=0.1, saturation=0.10, hue=0.1),\n",
        "                                       transforms.RandomRotation((-7.0, 7.0), fill=(1,)),\n",
        "                                       transforms.ToTensor(),\n",
        "                                       transforms.Normalize((0.1307,), (0.3081,)) # The mean and std have to be sequences (e.g., tuples), therefore you should add a comma after the values. \n",
        "                                       # Note the difference between (0.1307) and (0.1307,)\n",
        "                                       ])\n",
        "\n",
        "# Test Phase transformations\n",
        "test_transforms = transforms.Compose([\n",
        "                                        transforms.Resize((227, 227)),\n",
        "                                        #transforms.ColorJitter(brightness=0.10, contrast=0.1, saturation=0.10, hue=0.1),\n",
        "                                       transforms.ToTensor(),\n",
        "                                       transforms.Normalize((0.1307,), (0.3081,))\n",
        "                                       ])\n",
        "\n",
        "\n",
        "\n",
        "trainset = torchvision.datasets.FashionMNIST(root='./data', train=True,\n",
        "                                        download=True, transform=train_transforms)\n",
        "trainloader = dataloader.load(trainset)\n",
        "\n",
        "testset = torchvision.datasets.FashionMNIST(root='./data', train=False,\n",
        "                                       download=True, transform=test_transforms)\n",
        "testloader = dataloader.load(testset)\n",
        "\n",
        "classes = ('T-shirt/top','Trouser','Pullover','Dress','Coat','Sandal','Shirt','Sneaker','Bag','Ankle boot')"
      ],
      "execution_count": 5,
      "outputs": []
    },
    {
      "cell_type": "code",
      "metadata": {
        "id": "q3C4DtgTHPo4",
        "colab_type": "code",
        "colab": {}
      },
      "source": [
        "dataiter = iter(trainloader)\n",
        "images, labels = dataiter.next()\n",
        "\n",
        "print(images.shape)\n",
        "print(labels.shape)\n",
        "\n",
        "from matplotlib import pyplot as plt\n",
        "import matplotlib.gridspec as gridspec\n",
        "\n",
        "%matplotlib inline\n",
        "def show25(images, labels):\n",
        "  r, c = 5, 5\n",
        "  figmatrix = plt.figure(figsize=(7, 7))\n",
        "  gs1 = gridspec.GridSpec(r, c)\n",
        "  gs1.update(wspace=0.5, hspace=0.5) # set the \n",
        "  for i in range(1, r*c+1):\n",
        "    plt.subplot(gs1[i-1])\n",
        "    plt.tick_params( axis='both', which='both', labelbottom=False, labelleft=False, left=False, bottom=False)\n",
        "    plt.imshow(images[i-1].numpy().squeeze(), cmap='gray_r')\n",
        "    plt.title(classes[labels[i-1]])\n",
        "  plt.show()\n",
        "\n",
        "show25(images[:25], labels[:25])"
      ],
      "execution_count": null,
      "outputs": []
    },
    {
      "cell_type": "code",
      "metadata": {
        "id": "BUF9CUf6yTHQ",
        "colab_type": "code",
        "colab": {}
      },
      "source": [
        "import alexnet\n",
        "net = alexnet.AlexNet()"
      ],
      "execution_count": 19,
      "outputs": []
    },
    {
      "cell_type": "code",
      "metadata": {
        "id": "ULOXSRvzXm7r",
        "colab_type": "code",
        "colab": {}
      },
      "source": [
        "import torch.optim as optim\n",
        "import torch.nn as nn\n",
        "import torch.nn.functional as F\n",
        "\n",
        "criterion = nn.CrossEntropyLoss()\n",
        "optimizer = optim.SGD(net.parameters(), lr=0.001, momentum=0.9)"
      ],
      "execution_count": 10,
      "outputs": []
    },
    {
      "cell_type": "code",
      "metadata": {
        "id": "-QVRy05VXpU0",
        "colab_type": "code",
        "colab": {}
      },
      "source": [
        "from torchsummary import summary\n",
        "use_cuda = torch.cuda.is_available()\n",
        "device = torch.device(\"cuda\" if use_cuda else \"cpu\")\n",
        "print(device)\n",
        "model = net.to(device)\n",
        "summary(model, input_size=(1, 227, 227))"
      ],
      "execution_count": null,
      "outputs": []
    },
    {
      "cell_type": "code",
      "metadata": {
        "id": "7OlSnzgjXtLI",
        "colab_type": "code",
        "colab": {}
      },
      "source": [
        "import evascheduler"
      ],
      "execution_count": 12,
      "outputs": []
    },
    {
      "cell_type": "code",
      "metadata": {
        "id": "kqbVc4L7ZQCd",
        "colab_type": "code",
        "colab": {}
      },
      "source": [
        "from torch.optim.lr_scheduler import StepLR\n",
        "from evascheduler import train,test\n",
        "\n",
        "model =  net.to(device)\n",
        "optimizer = optim.SGD(model.parameters(), lr=0.01, momentum=0.9)\n",
        "scheduler = StepLR(optimizer, step_size=6, gamma=0.1)\n",
        "EPOCHS = 20\n",
        "for epoch in range(EPOCHS):\n",
        "    print(\"EPOCH:\", epoch)\n",
        "    train(model, device, trainloader, optimizer, epoch,criterion)\n",
        "    scheduler.step()\n",
        "    test(model, device, testloader)"
      ],
      "execution_count": null,
      "outputs": []
    },
    {
      "cell_type": "code",
      "metadata": {
        "id": "9AGhLc7BflZV",
        "colab_type": "code",
        "colab": {}
      },
      "source": [
        "from evascheduler import draw_graph\n",
        "draw_graph()"
      ],
      "execution_count": null,
      "outputs": []
    },
    {
      "cell_type": "code",
      "metadata": {
        "id": "-JYb_6WGgT8G",
        "colab_type": "code",
        "colab": {}
      },
      "source": [
        "from evascheduler import get_misclassified\n",
        "misclassified = get_misclassified()"
      ],
      "execution_count": null,
      "outputs": []
    },
    {
      "cell_type": "code",
      "metadata": {
        "id": "NDOPWFNd1FPm",
        "colab_type": "code",
        "colab": {}
      },
      "source": [
        "def plot_images(img_data,classes,img_name):\n",
        "  figure = plt.figure(figsize=(10, 10))\n",
        "  \n",
        "  num_of_images = len(img_data)\n",
        "  for index in range(1, num_of_images + 1):\n",
        "      img = img_data[index-1][0][0]\n",
        "      plt.subplot(5, 5, index)\n",
        "      plt.axis('off')\n",
        "      plt.imshow(img.cpu().numpy(),cmap='gray_r')\n",
        "      plt.title(\"Actual: %s\\nPredicted: %s\" % (classes[img_data[index-1][1]], classes[img_data[index-1][2]]))\n",
        "  \n",
        "  plt.tight_layout()\n",
        "  plt.savefig(img_name)\n"
      ],
      "execution_count": null,
      "outputs": []
    },
    {
      "cell_type": "code",
      "metadata": {
        "id": "naM-XuvSgaF5",
        "colab_type": "code",
        "colab": {}
      },
      "source": [
        "#import utils\n",
        "#from utils import plot_images\n",
        "plot_images(misclassified,classes,\"misclassified.png\")"
      ],
      "execution_count": null,
      "outputs": []
    },
    {
      "cell_type": "code",
      "metadata": {
        "id": "lPBjKj2IJlOt",
        "colab_type": "code",
        "colab": {}
      },
      "source": [
        ""
      ],
      "execution_count": null,
      "outputs": []
    }
  ]
}